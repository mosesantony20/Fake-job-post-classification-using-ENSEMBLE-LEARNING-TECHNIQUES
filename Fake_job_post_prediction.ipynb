{
  "nbformat": 4,
  "nbformat_minor": 0,
  "metadata": {
    "kernelspec": {
      "language": "python",
      "display_name": "Python 3",
      "name": "python3"
    },
    "language_info": {
      "name": "python",
      "version": "3.7.9",
      "mimetype": "text/x-python",
      "codemirror_mode": {
        "name": "ipython",
        "version": 3
      },
      "pygments_lexer": "ipython3",
      "nbconvert_exporter": "python",
      "file_extension": ".py"
    },
    "colab": {
      "name": "Fake job post prediction.ipynb",
      "provenance": []
    }
  },
  "cells": [
    {
      "cell_type": "code",
      "source": [
        "import numpy as np \n",
        "import pandas as pd "
      ],
      "metadata": {
        "id": "qhyhdvFH3ElJ"
      },
      "execution_count": null,
      "outputs": []
    },
    {
      "cell_type": "markdown",
      "metadata": {
        "id": "a3Moqmki4MnE"
      },
      "source": [
        "**Importing the Data into pandas Data Frame**"
      ]
    },
    {
      "cell_type": "code",
      "metadata": {
        "execution": {
          "iopub.status.busy": "2021-06-12T14:10:31.088412Z",
          "iopub.execute_input": "2021-06-12T14:10:31.088806Z",
          "iopub.status.idle": "2021-06-12T14:10:31.834075Z",
          "shell.execute_reply.started": "2021-06-12T14:10:31.088772Z",
          "shell.execute_reply": "2021-06-12T14:10:31.833237Z"
        },
        "trusted": true,
        "colab": {
          "base_uri": "https://localhost:8080/",
          "height": 600
        },
        "id": "MM0V8gKk4MnH",
        "outputId": "de09a5b3-2edf-4ffc-c6a7-b2c42ff701c2"
      },
      "source": [
        "df = pd.read_csv('/content/fake_job_postings.csv')\n",
        "df.head()"
      ],
      "execution_count": null,
      "outputs": [
        {
          "output_type": "execute_result",
          "data": {
            "text/html": [
              "\n",
              "  <div id=\"df-5abbb167-1dd9-4219-8730-16c81291100b\">\n",
              "    <div class=\"colab-df-container\">\n",
              "      <div>\n",
              "<style scoped>\n",
              "    .dataframe tbody tr th:only-of-type {\n",
              "        vertical-align: middle;\n",
              "    }\n",
              "\n",
              "    .dataframe tbody tr th {\n",
              "        vertical-align: top;\n",
              "    }\n",
              "\n",
              "    .dataframe thead th {\n",
              "        text-align: right;\n",
              "    }\n",
              "</style>\n",
              "<table border=\"1\" class=\"dataframe\">\n",
              "  <thead>\n",
              "    <tr style=\"text-align: right;\">\n",
              "      <th></th>\n",
              "      <th>job_id</th>\n",
              "      <th>title</th>\n",
              "      <th>location</th>\n",
              "      <th>department</th>\n",
              "      <th>salary_range</th>\n",
              "      <th>company_profile</th>\n",
              "      <th>description</th>\n",
              "      <th>requirements</th>\n",
              "      <th>benefits</th>\n",
              "      <th>telecommuting</th>\n",
              "      <th>has_company_logo</th>\n",
              "      <th>has_questions</th>\n",
              "      <th>employment_type</th>\n",
              "      <th>required_experience</th>\n",
              "      <th>required_education</th>\n",
              "      <th>industry</th>\n",
              "      <th>function</th>\n",
              "      <th>fraudulent</th>\n",
              "    </tr>\n",
              "  </thead>\n",
              "  <tbody>\n",
              "    <tr>\n",
              "      <th>0</th>\n",
              "      <td>1</td>\n",
              "      <td>Marketing Intern</td>\n",
              "      <td>US, NY, New York</td>\n",
              "      <td>Marketing</td>\n",
              "      <td>NaN</td>\n",
              "      <td>We're Food52, and we've created a groundbreaki...</td>\n",
              "      <td>Food52, a fast-growing, James Beard Award-winn...</td>\n",
              "      <td>Experience with content management systems a m...</td>\n",
              "      <td>NaN</td>\n",
              "      <td>0</td>\n",
              "      <td>1</td>\n",
              "      <td>0</td>\n",
              "      <td>Other</td>\n",
              "      <td>Internship</td>\n",
              "      <td>NaN</td>\n",
              "      <td>NaN</td>\n",
              "      <td>Marketing</td>\n",
              "      <td>0</td>\n",
              "    </tr>\n",
              "    <tr>\n",
              "      <th>1</th>\n",
              "      <td>2</td>\n",
              "      <td>Customer Service - Cloud Video Production</td>\n",
              "      <td>NZ, , Auckland</td>\n",
              "      <td>Success</td>\n",
              "      <td>NaN</td>\n",
              "      <td>90 Seconds, the worlds Cloud Video Production ...</td>\n",
              "      <td>Organised - Focused - Vibrant - Awesome!Do you...</td>\n",
              "      <td>What we expect from you:Your key responsibilit...</td>\n",
              "      <td>What you will get from usThrough being part of...</td>\n",
              "      <td>0</td>\n",
              "      <td>1</td>\n",
              "      <td>0</td>\n",
              "      <td>Full-time</td>\n",
              "      <td>Not Applicable</td>\n",
              "      <td>NaN</td>\n",
              "      <td>Marketing and Advertising</td>\n",
              "      <td>Customer Service</td>\n",
              "      <td>0</td>\n",
              "    </tr>\n",
              "    <tr>\n",
              "      <th>2</th>\n",
              "      <td>3</td>\n",
              "      <td>Commissioning Machinery Assistant (CMA)</td>\n",
              "      <td>US, IA, Wever</td>\n",
              "      <td>NaN</td>\n",
              "      <td>NaN</td>\n",
              "      <td>Valor Services provides Workforce Solutions th...</td>\n",
              "      <td>Our client, located in Houston, is actively se...</td>\n",
              "      <td>Implement pre-commissioning and commissioning ...</td>\n",
              "      <td>NaN</td>\n",
              "      <td>0</td>\n",
              "      <td>1</td>\n",
              "      <td>0</td>\n",
              "      <td>NaN</td>\n",
              "      <td>NaN</td>\n",
              "      <td>NaN</td>\n",
              "      <td>NaN</td>\n",
              "      <td>NaN</td>\n",
              "      <td>0</td>\n",
              "    </tr>\n",
              "    <tr>\n",
              "      <th>3</th>\n",
              "      <td>4</td>\n",
              "      <td>Account Executive - Washington DC</td>\n",
              "      <td>US, DC, Washington</td>\n",
              "      <td>Sales</td>\n",
              "      <td>NaN</td>\n",
              "      <td>Our passion for improving quality of life thro...</td>\n",
              "      <td>THE COMPANY: ESRI – Environmental Systems Rese...</td>\n",
              "      <td>EDUCATION: Bachelor’s or Master’s in GIS, busi...</td>\n",
              "      <td>Our culture is anything but corporate—we have ...</td>\n",
              "      <td>0</td>\n",
              "      <td>1</td>\n",
              "      <td>0</td>\n",
              "      <td>Full-time</td>\n",
              "      <td>Mid-Senior level</td>\n",
              "      <td>Bachelor's Degree</td>\n",
              "      <td>Computer Software</td>\n",
              "      <td>Sales</td>\n",
              "      <td>0</td>\n",
              "    </tr>\n",
              "    <tr>\n",
              "      <th>4</th>\n",
              "      <td>5</td>\n",
              "      <td>Bill Review Manager</td>\n",
              "      <td>US, FL, Fort Worth</td>\n",
              "      <td>NaN</td>\n",
              "      <td>NaN</td>\n",
              "      <td>SpotSource Solutions LLC is a Global Human Cap...</td>\n",
              "      <td>JOB TITLE: Itemization Review ManagerLOCATION:...</td>\n",
              "      <td>QUALIFICATIONS:RN license in the State of Texa...</td>\n",
              "      <td>Full Benefits Offered</td>\n",
              "      <td>0</td>\n",
              "      <td>1</td>\n",
              "      <td>1</td>\n",
              "      <td>Full-time</td>\n",
              "      <td>Mid-Senior level</td>\n",
              "      <td>Bachelor's Degree</td>\n",
              "      <td>Hospital &amp; Health Care</td>\n",
              "      <td>Health Care Provider</td>\n",
              "      <td>0</td>\n",
              "    </tr>\n",
              "  </tbody>\n",
              "</table>\n",
              "</div>\n",
              "      <button class=\"colab-df-convert\" onclick=\"convertToInteractive('df-5abbb167-1dd9-4219-8730-16c81291100b')\"\n",
              "              title=\"Convert this dataframe to an interactive table.\"\n",
              "              style=\"display:none;\">\n",
              "        \n",
              "  <svg xmlns=\"http://www.w3.org/2000/svg\" height=\"24px\"viewBox=\"0 0 24 24\"\n",
              "       width=\"24px\">\n",
              "    <path d=\"M0 0h24v24H0V0z\" fill=\"none\"/>\n",
              "    <path d=\"M18.56 5.44l.94 2.06.94-2.06 2.06-.94-2.06-.94-.94-2.06-.94 2.06-2.06.94zm-11 1L8.5 8.5l.94-2.06 2.06-.94-2.06-.94L8.5 2.5l-.94 2.06-2.06.94zm10 10l.94 2.06.94-2.06 2.06-.94-2.06-.94-.94-2.06-.94 2.06-2.06.94z\"/><path d=\"M17.41 7.96l-1.37-1.37c-.4-.4-.92-.59-1.43-.59-.52 0-1.04.2-1.43.59L10.3 9.45l-7.72 7.72c-.78.78-.78 2.05 0 2.83L4 21.41c.39.39.9.59 1.41.59.51 0 1.02-.2 1.41-.59l7.78-7.78 2.81-2.81c.8-.78.8-2.07 0-2.86zM5.41 20L4 18.59l7.72-7.72 1.47 1.35L5.41 20z\"/>\n",
              "  </svg>\n",
              "      </button>\n",
              "      \n",
              "  <style>\n",
              "    .colab-df-container {\n",
              "      display:flex;\n",
              "      flex-wrap:wrap;\n",
              "      gap: 12px;\n",
              "    }\n",
              "\n",
              "    .colab-df-convert {\n",
              "      background-color: #E8F0FE;\n",
              "      border: none;\n",
              "      border-radius: 50%;\n",
              "      cursor: pointer;\n",
              "      display: none;\n",
              "      fill: #1967D2;\n",
              "      height: 32px;\n",
              "      padding: 0 0 0 0;\n",
              "      width: 32px;\n",
              "    }\n",
              "\n",
              "    .colab-df-convert:hover {\n",
              "      background-color: #E2EBFA;\n",
              "      box-shadow: 0px 1px 2px rgba(60, 64, 67, 0.3), 0px 1px 3px 1px rgba(60, 64, 67, 0.15);\n",
              "      fill: #174EA6;\n",
              "    }\n",
              "\n",
              "    [theme=dark] .colab-df-convert {\n",
              "      background-color: #3B4455;\n",
              "      fill: #D2E3FC;\n",
              "    }\n",
              "\n",
              "    [theme=dark] .colab-df-convert:hover {\n",
              "      background-color: #434B5C;\n",
              "      box-shadow: 0px 1px 3px 1px rgba(0, 0, 0, 0.15);\n",
              "      filter: drop-shadow(0px 1px 2px rgba(0, 0, 0, 0.3));\n",
              "      fill: #FFFFFF;\n",
              "    }\n",
              "  </style>\n",
              "\n",
              "      <script>\n",
              "        const buttonEl =\n",
              "          document.querySelector('#df-5abbb167-1dd9-4219-8730-16c81291100b button.colab-df-convert');\n",
              "        buttonEl.style.display =\n",
              "          google.colab.kernel.accessAllowed ? 'block' : 'none';\n",
              "\n",
              "        async function convertToInteractive(key) {\n",
              "          const element = document.querySelector('#df-5abbb167-1dd9-4219-8730-16c81291100b');\n",
              "          const dataTable =\n",
              "            await google.colab.kernel.invokeFunction('convertToInteractive',\n",
              "                                                     [key], {});\n",
              "          if (!dataTable) return;\n",
              "\n",
              "          const docLinkHtml = 'Like what you see? Visit the ' +\n",
              "            '<a target=\"_blank\" href=https://colab.research.google.com/notebooks/data_table.ipynb>data table notebook</a>'\n",
              "            + ' to learn more about interactive tables.';\n",
              "          element.innerHTML = '';\n",
              "          dataTable['output_type'] = 'display_data';\n",
              "          await google.colab.output.renderOutput(dataTable, element);\n",
              "          const docLink = document.createElement('div');\n",
              "          docLink.innerHTML = docLinkHtml;\n",
              "          element.appendChild(docLink);\n",
              "        }\n",
              "      </script>\n",
              "    </div>\n",
              "  </div>\n",
              "  "
            ],
            "text/plain": [
              "   job_id  ... fraudulent\n",
              "0       1  ...          0\n",
              "1       2  ...          0\n",
              "2       3  ...          0\n",
              "3       4  ...          0\n",
              "4       5  ...          0\n",
              "\n",
              "[5 rows x 18 columns]"
            ]
          },
          "metadata": {},
          "execution_count": 2
        }
      ]
    },
    {
      "cell_type": "markdown",
      "metadata": {
        "id": "vCWQUSOC4MnI"
      },
      "source": [
        "**Remove Unrelated Attributes**"
      ]
    },
    {
      "cell_type": "code",
      "metadata": {
        "execution": {
          "iopub.status.busy": "2021-06-12T14:10:55.526457Z",
          "iopub.execute_input": "2021-06-12T14:10:55.527063Z",
          "iopub.status.idle": "2021-06-12T14:10:55.535024Z",
          "shell.execute_reply.started": "2021-06-12T14:10:55.527008Z",
          "shell.execute_reply": "2021-06-12T14:10:55.533690Z"
        },
        "trusted": true,
        "colab": {
          "base_uri": "https://localhost:8080/"
        },
        "id": "TyNKZnA54MnJ",
        "outputId": "bad1f2f2-8e24-4c56-ddc5-f62544fe93b9"
      },
      "source": [
        "df.columns"
      ],
      "execution_count": null,
      "outputs": [
        {
          "output_type": "execute_result",
          "data": {
            "text/plain": [
              "Index(['job_id', 'title', 'location', 'department', 'salary_range',\n",
              "       'company_profile', 'description', 'requirements', 'benefits',\n",
              "       'telecommuting', 'has_company_logo', 'has_questions', 'employment_type',\n",
              "       'required_experience', 'required_education', 'industry', 'function',\n",
              "       'fraudulent'],\n",
              "      dtype='object')"
            ]
          },
          "metadata": {},
          "execution_count": 3
        }
      ]
    },
    {
      "cell_type": "code",
      "metadata": {
        "execution": {
          "iopub.status.busy": "2021-06-12T14:11:30.449853Z",
          "iopub.execute_input": "2021-06-12T14:11:30.450445Z",
          "iopub.status.idle": "2021-06-12T14:11:30.458427Z",
          "shell.execute_reply.started": "2021-06-12T14:11:30.450390Z",
          "shell.execute_reply": "2021-06-12T14:11:30.457436Z"
        },
        "trusted": true,
        "id": "J3oa2Jgc4MnJ"
      },
      "source": [
        "df = df.drop(['job_id', 'title', 'location', 'department', 'salary_range',\n",
        "       'company_profile', 'requirements', 'benefits',\n",
        "       'telecommuting', 'has_company_logo', 'has_questions', 'employment_type',\n",
        "       'required_experience', 'required_education', 'industry', 'function'], axis=1)"
      ],
      "execution_count": null,
      "outputs": []
    },
    {
      "cell_type": "code",
      "metadata": {
        "execution": {
          "iopub.status.busy": "2021-06-12T14:11:36.224254Z",
          "iopub.execute_input": "2021-06-12T14:11:36.224664Z",
          "iopub.status.idle": "2021-06-12T14:11:36.235703Z",
          "shell.execute_reply.started": "2021-06-12T14:11:36.224614Z",
          "shell.execute_reply": "2021-06-12T14:11:36.234436Z"
        },
        "trusted": true,
        "colab": {
          "base_uri": "https://localhost:8080/",
          "height": 206
        },
        "id": "nIZWCbCw4MnK",
        "outputId": "534c879c-d5b9-4d83-f62f-6822e5fc67a0"
      },
      "source": [
        "df.head()"
      ],
      "execution_count": null,
      "outputs": [
        {
          "output_type": "execute_result",
          "data": {
            "text/html": [
              "\n",
              "  <div id=\"df-ad509a66-4264-48e0-be46-9904c77f1039\">\n",
              "    <div class=\"colab-df-container\">\n",
              "      <div>\n",
              "<style scoped>\n",
              "    .dataframe tbody tr th:only-of-type {\n",
              "        vertical-align: middle;\n",
              "    }\n",
              "\n",
              "    .dataframe tbody tr th {\n",
              "        vertical-align: top;\n",
              "    }\n",
              "\n",
              "    .dataframe thead th {\n",
              "        text-align: right;\n",
              "    }\n",
              "</style>\n",
              "<table border=\"1\" class=\"dataframe\">\n",
              "  <thead>\n",
              "    <tr style=\"text-align: right;\">\n",
              "      <th></th>\n",
              "      <th>description</th>\n",
              "      <th>fraudulent</th>\n",
              "    </tr>\n",
              "  </thead>\n",
              "  <tbody>\n",
              "    <tr>\n",
              "      <th>0</th>\n",
              "      <td>Food52, a fast-growing, James Beard Award-winn...</td>\n",
              "      <td>0</td>\n",
              "    </tr>\n",
              "    <tr>\n",
              "      <th>1</th>\n",
              "      <td>Organised - Focused - Vibrant - Awesome!Do you...</td>\n",
              "      <td>0</td>\n",
              "    </tr>\n",
              "    <tr>\n",
              "      <th>2</th>\n",
              "      <td>Our client, located in Houston, is actively se...</td>\n",
              "      <td>0</td>\n",
              "    </tr>\n",
              "    <tr>\n",
              "      <th>3</th>\n",
              "      <td>THE COMPANY: ESRI – Environmental Systems Rese...</td>\n",
              "      <td>0</td>\n",
              "    </tr>\n",
              "    <tr>\n",
              "      <th>4</th>\n",
              "      <td>JOB TITLE: Itemization Review ManagerLOCATION:...</td>\n",
              "      <td>0</td>\n",
              "    </tr>\n",
              "  </tbody>\n",
              "</table>\n",
              "</div>\n",
              "      <button class=\"colab-df-convert\" onclick=\"convertToInteractive('df-ad509a66-4264-48e0-be46-9904c77f1039')\"\n",
              "              title=\"Convert this dataframe to an interactive table.\"\n",
              "              style=\"display:none;\">\n",
              "        \n",
              "  <svg xmlns=\"http://www.w3.org/2000/svg\" height=\"24px\"viewBox=\"0 0 24 24\"\n",
              "       width=\"24px\">\n",
              "    <path d=\"M0 0h24v24H0V0z\" fill=\"none\"/>\n",
              "    <path d=\"M18.56 5.44l.94 2.06.94-2.06 2.06-.94-2.06-.94-.94-2.06-.94 2.06-2.06.94zm-11 1L8.5 8.5l.94-2.06 2.06-.94-2.06-.94L8.5 2.5l-.94 2.06-2.06.94zm10 10l.94 2.06.94-2.06 2.06-.94-2.06-.94-.94-2.06-.94 2.06-2.06.94z\"/><path d=\"M17.41 7.96l-1.37-1.37c-.4-.4-.92-.59-1.43-.59-.52 0-1.04.2-1.43.59L10.3 9.45l-7.72 7.72c-.78.78-.78 2.05 0 2.83L4 21.41c.39.39.9.59 1.41.59.51 0 1.02-.2 1.41-.59l7.78-7.78 2.81-2.81c.8-.78.8-2.07 0-2.86zM5.41 20L4 18.59l7.72-7.72 1.47 1.35L5.41 20z\"/>\n",
              "  </svg>\n",
              "      </button>\n",
              "      \n",
              "  <style>\n",
              "    .colab-df-container {\n",
              "      display:flex;\n",
              "      flex-wrap:wrap;\n",
              "      gap: 12px;\n",
              "    }\n",
              "\n",
              "    .colab-df-convert {\n",
              "      background-color: #E8F0FE;\n",
              "      border: none;\n",
              "      border-radius: 50%;\n",
              "      cursor: pointer;\n",
              "      display: none;\n",
              "      fill: #1967D2;\n",
              "      height: 32px;\n",
              "      padding: 0 0 0 0;\n",
              "      width: 32px;\n",
              "    }\n",
              "\n",
              "    .colab-df-convert:hover {\n",
              "      background-color: #E2EBFA;\n",
              "      box-shadow: 0px 1px 2px rgba(60, 64, 67, 0.3), 0px 1px 3px 1px rgba(60, 64, 67, 0.15);\n",
              "      fill: #174EA6;\n",
              "    }\n",
              "\n",
              "    [theme=dark] .colab-df-convert {\n",
              "      background-color: #3B4455;\n",
              "      fill: #D2E3FC;\n",
              "    }\n",
              "\n",
              "    [theme=dark] .colab-df-convert:hover {\n",
              "      background-color: #434B5C;\n",
              "      box-shadow: 0px 1px 3px 1px rgba(0, 0, 0, 0.15);\n",
              "      filter: drop-shadow(0px 1px 2px rgba(0, 0, 0, 0.3));\n",
              "      fill: #FFFFFF;\n",
              "    }\n",
              "  </style>\n",
              "\n",
              "      <script>\n",
              "        const buttonEl =\n",
              "          document.querySelector('#df-ad509a66-4264-48e0-be46-9904c77f1039 button.colab-df-convert');\n",
              "        buttonEl.style.display =\n",
              "          google.colab.kernel.accessAllowed ? 'block' : 'none';\n",
              "\n",
              "        async function convertToInteractive(key) {\n",
              "          const element = document.querySelector('#df-ad509a66-4264-48e0-be46-9904c77f1039');\n",
              "          const dataTable =\n",
              "            await google.colab.kernel.invokeFunction('convertToInteractive',\n",
              "                                                     [key], {});\n",
              "          if (!dataTable) return;\n",
              "\n",
              "          const docLinkHtml = 'Like what you see? Visit the ' +\n",
              "            '<a target=\"_blank\" href=https://colab.research.google.com/notebooks/data_table.ipynb>data table notebook</a>'\n",
              "            + ' to learn more about interactive tables.';\n",
              "          element.innerHTML = '';\n",
              "          dataTable['output_type'] = 'display_data';\n",
              "          await google.colab.output.renderOutput(dataTable, element);\n",
              "          const docLink = document.createElement('div');\n",
              "          docLink.innerHTML = docLinkHtml;\n",
              "          element.appendChild(docLink);\n",
              "        }\n",
              "      </script>\n",
              "    </div>\n",
              "  </div>\n",
              "  "
            ],
            "text/plain": [
              "                                         description  fraudulent\n",
              "0  Food52, a fast-growing, James Beard Award-winn...           0\n",
              "1  Organised - Focused - Vibrant - Awesome!Do you...           0\n",
              "2  Our client, located in Houston, is actively se...           0\n",
              "3  THE COMPANY: ESRI – Environmental Systems Rese...           0\n",
              "4  JOB TITLE: Itemization Review ManagerLOCATION:...           0"
            ]
          },
          "metadata": {},
          "execution_count": 5
        }
      ]
    },
    {
      "cell_type": "markdown",
      "metadata": {
        "id": "1OXZarkc4MnL"
      },
      "source": [
        "**DropNa**"
      ]
    },
    {
      "cell_type": "code",
      "metadata": {
        "execution": {
          "iopub.status.busy": "2021-06-12T14:11:55.383290Z",
          "iopub.execute_input": "2021-06-12T14:11:55.383689Z",
          "iopub.status.idle": "2021-06-12T14:11:55.399871Z",
          "shell.execute_reply.started": "2021-06-12T14:11:55.383653Z",
          "shell.execute_reply": "2021-06-12T14:11:55.398546Z"
        },
        "trusted": true,
        "id": "KEyjFGCZ4MnM"
      },
      "source": [
        "df.dropna(inplace=True) "
      ],
      "execution_count": null,
      "outputs": []
    },
    {
      "cell_type": "markdown",
      "metadata": {
        "id": "8mKWXlA-4MnN"
      },
      "source": [
        "**Change Cols Names**"
      ]
    },
    {
      "cell_type": "code",
      "metadata": {
        "execution": {
          "iopub.status.busy": "2021-06-12T14:12:38.652148Z",
          "iopub.execute_input": "2021-06-12T14:12:38.652833Z",
          "iopub.status.idle": "2021-06-12T14:12:38.666317Z",
          "shell.execute_reply.started": "2021-06-12T14:12:38.652793Z",
          "shell.execute_reply": "2021-06-12T14:12:38.665219Z"
        },
        "trusted": true,
        "colab": {
          "base_uri": "https://localhost:8080/",
          "height": 206
        },
        "id": "gOiANawJ4MnO",
        "outputId": "d1fc8a75-21ec-4064-d89d-2907ad27913c"
      },
      "source": [
        "df.columns = ['data', 'labels']\n",
        "df.head()"
      ],
      "execution_count": null,
      "outputs": [
        {
          "output_type": "execute_result",
          "data": {
            "text/html": [
              "\n",
              "  <div id=\"df-ab293286-6e04-4382-8ace-61d79d130932\">\n",
              "    <div class=\"colab-df-container\">\n",
              "      <div>\n",
              "<style scoped>\n",
              "    .dataframe tbody tr th:only-of-type {\n",
              "        vertical-align: middle;\n",
              "    }\n",
              "\n",
              "    .dataframe tbody tr th {\n",
              "        vertical-align: top;\n",
              "    }\n",
              "\n",
              "    .dataframe thead th {\n",
              "        text-align: right;\n",
              "    }\n",
              "</style>\n",
              "<table border=\"1\" class=\"dataframe\">\n",
              "  <thead>\n",
              "    <tr style=\"text-align: right;\">\n",
              "      <th></th>\n",
              "      <th>data</th>\n",
              "      <th>labels</th>\n",
              "    </tr>\n",
              "  </thead>\n",
              "  <tbody>\n",
              "    <tr>\n",
              "      <th>0</th>\n",
              "      <td>Food52, a fast-growing, James Beard Award-winn...</td>\n",
              "      <td>0</td>\n",
              "    </tr>\n",
              "    <tr>\n",
              "      <th>1</th>\n",
              "      <td>Organised - Focused - Vibrant - Awesome!Do you...</td>\n",
              "      <td>0</td>\n",
              "    </tr>\n",
              "    <tr>\n",
              "      <th>2</th>\n",
              "      <td>Our client, located in Houston, is actively se...</td>\n",
              "      <td>0</td>\n",
              "    </tr>\n",
              "    <tr>\n",
              "      <th>3</th>\n",
              "      <td>THE COMPANY: ESRI – Environmental Systems Rese...</td>\n",
              "      <td>0</td>\n",
              "    </tr>\n",
              "    <tr>\n",
              "      <th>4</th>\n",
              "      <td>JOB TITLE: Itemization Review ManagerLOCATION:...</td>\n",
              "      <td>0</td>\n",
              "    </tr>\n",
              "  </tbody>\n",
              "</table>\n",
              "</div>\n",
              "      <button class=\"colab-df-convert\" onclick=\"convertToInteractive('df-ab293286-6e04-4382-8ace-61d79d130932')\"\n",
              "              title=\"Convert this dataframe to an interactive table.\"\n",
              "              style=\"display:none;\">\n",
              "        \n",
              "  <svg xmlns=\"http://www.w3.org/2000/svg\" height=\"24px\"viewBox=\"0 0 24 24\"\n",
              "       width=\"24px\">\n",
              "    <path d=\"M0 0h24v24H0V0z\" fill=\"none\"/>\n",
              "    <path d=\"M18.56 5.44l.94 2.06.94-2.06 2.06-.94-2.06-.94-.94-2.06-.94 2.06-2.06.94zm-11 1L8.5 8.5l.94-2.06 2.06-.94-2.06-.94L8.5 2.5l-.94 2.06-2.06.94zm10 10l.94 2.06.94-2.06 2.06-.94-2.06-.94-.94-2.06-.94 2.06-2.06.94z\"/><path d=\"M17.41 7.96l-1.37-1.37c-.4-.4-.92-.59-1.43-.59-.52 0-1.04.2-1.43.59L10.3 9.45l-7.72 7.72c-.78.78-.78 2.05 0 2.83L4 21.41c.39.39.9.59 1.41.59.51 0 1.02-.2 1.41-.59l7.78-7.78 2.81-2.81c.8-.78.8-2.07 0-2.86zM5.41 20L4 18.59l7.72-7.72 1.47 1.35L5.41 20z\"/>\n",
              "  </svg>\n",
              "      </button>\n",
              "      \n",
              "  <style>\n",
              "    .colab-df-container {\n",
              "      display:flex;\n",
              "      flex-wrap:wrap;\n",
              "      gap: 12px;\n",
              "    }\n",
              "\n",
              "    .colab-df-convert {\n",
              "      background-color: #E8F0FE;\n",
              "      border: none;\n",
              "      border-radius: 50%;\n",
              "      cursor: pointer;\n",
              "      display: none;\n",
              "      fill: #1967D2;\n",
              "      height: 32px;\n",
              "      padding: 0 0 0 0;\n",
              "      width: 32px;\n",
              "    }\n",
              "\n",
              "    .colab-df-convert:hover {\n",
              "      background-color: #E2EBFA;\n",
              "      box-shadow: 0px 1px 2px rgba(60, 64, 67, 0.3), 0px 1px 3px 1px rgba(60, 64, 67, 0.15);\n",
              "      fill: #174EA6;\n",
              "    }\n",
              "\n",
              "    [theme=dark] .colab-df-convert {\n",
              "      background-color: #3B4455;\n",
              "      fill: #D2E3FC;\n",
              "    }\n",
              "\n",
              "    [theme=dark] .colab-df-convert:hover {\n",
              "      background-color: #434B5C;\n",
              "      box-shadow: 0px 1px 3px 1px rgba(0, 0, 0, 0.15);\n",
              "      filter: drop-shadow(0px 1px 2px rgba(0, 0, 0, 0.3));\n",
              "      fill: #FFFFFF;\n",
              "    }\n",
              "  </style>\n",
              "\n",
              "      <script>\n",
              "        const buttonEl =\n",
              "          document.querySelector('#df-ab293286-6e04-4382-8ace-61d79d130932 button.colab-df-convert');\n",
              "        buttonEl.style.display =\n",
              "          google.colab.kernel.accessAllowed ? 'block' : 'none';\n",
              "\n",
              "        async function convertToInteractive(key) {\n",
              "          const element = document.querySelector('#df-ab293286-6e04-4382-8ace-61d79d130932');\n",
              "          const dataTable =\n",
              "            await google.colab.kernel.invokeFunction('convertToInteractive',\n",
              "                                                     [key], {});\n",
              "          if (!dataTable) return;\n",
              "\n",
              "          const docLinkHtml = 'Like what you see? Visit the ' +\n",
              "            '<a target=\"_blank\" href=https://colab.research.google.com/notebooks/data_table.ipynb>data table notebook</a>'\n",
              "            + ' to learn more about interactive tables.';\n",
              "          element.innerHTML = '';\n",
              "          dataTable['output_type'] = 'display_data';\n",
              "          await google.colab.output.renderOutput(dataTable, element);\n",
              "          const docLink = document.createElement('div');\n",
              "          docLink.innerHTML = docLinkHtml;\n",
              "          element.appendChild(docLink);\n",
              "        }\n",
              "      </script>\n",
              "    </div>\n",
              "  </div>\n",
              "  "
            ],
            "text/plain": [
              "                                                data  labels\n",
              "0  Food52, a fast-growing, James Beard Award-winn...       0\n",
              "1  Organised - Focused - Vibrant - Awesome!Do you...       0\n",
              "2  Our client, located in Houston, is actively se...       0\n",
              "3  THE COMPANY: ESRI – Environmental Systems Rese...       0\n",
              "4  JOB TITLE: Itemization Review ManagerLOCATION:...       0"
            ]
          },
          "metadata": {},
          "execution_count": 7
        }
      ]
    },
    {
      "cell_type": "markdown",
      "metadata": {
        "id": "tKcrvG874MnP"
      },
      "source": [
        "**Lowecasing All Letters**"
      ]
    },
    {
      "cell_type": "code",
      "metadata": {
        "execution": {
          "iopub.status.busy": "2021-06-12T14:12:51.879983Z",
          "iopub.execute_input": "2021-06-12T14:12:51.880350Z",
          "iopub.status.idle": "2021-06-12T14:12:52.001525Z",
          "shell.execute_reply.started": "2021-06-12T14:12:51.880321Z",
          "shell.execute_reply": "2021-06-12T14:12:52.000470Z"
        },
        "trusted": true,
        "colab": {
          "base_uri": "https://localhost:8080/",
          "height": 105
        },
        "id": "JlOijNyv4MnQ",
        "outputId": "217dc4eb-087f-4164-c8c0-2a15acc51013"
      },
      "source": [
        "df['data'] = df['data'].str.lower()\n",
        "df.data[0]"
      ],
      "execution_count": null,
      "outputs": [
        {
          "output_type": "execute_result",
          "data": {
            "application/vnd.google.colaboratory.intrinsic+json": {
              "type": "string"
            },
            "text/plain": [
              "'food52, a fast-growing, james beard award-winning online food community and crowd-sourced and curated recipe hub, is currently interviewing full- and part-time unpaid interns to work in a small team of editors, executives, and developers in its new york city headquarters.reproducing and/or repackaging existing food52 content for a number of partner sites, such as huffington post, yahoo, buzzfeed, and more in their various content management systemsresearching blogs and websites for the provisions by food52 affiliate programassisting in day-to-day affiliate program support, such as screening affiliates and assisting in any affiliate inquiriessupporting with pr &amp; events when neededhelping with office administrative work, such as filing, mailing, and preparing for meetingsworking with developers to document bugs and suggest improvements to the sitesupporting the marketing and executive staff'"
            ]
          },
          "metadata": {},
          "execution_count": 8
        }
      ]
    },
    {
      "cell_type": "markdown",
      "metadata": {
        "id": "xS51rsjn4MnR"
      },
      "source": [
        "**Text Pre-processing**"
      ]
    },
    {
      "cell_type": "code",
      "metadata": {
        "execution": {
          "iopub.status.busy": "2021-06-12T14:13:03.798370Z",
          "iopub.execute_input": "2021-06-12T14:13:03.798824Z",
          "iopub.status.idle": "2021-06-12T14:13:06.184267Z",
          "shell.execute_reply.started": "2021-06-12T14:13:03.798784Z",
          "shell.execute_reply": "2021-06-12T14:13:06.183129Z"
        },
        "trusted": true,
        "colab": {
          "base_uri": "https://localhost:8080/"
        },
        "id": "niDaDq_54MnR",
        "outputId": "bcf49084-0d1a-436c-87f4-6395955f1a20"
      },
      "source": [
        "import nltk \n",
        "\n",
        "nltk.download('stopwords')\n",
        "nltk.download('punkt')"
      ],
      "execution_count": null,
      "outputs": [
        {
          "output_type": "stream",
          "name": "stdout",
          "text": [
            "[nltk_data] Downloading package stopwords to /root/nltk_data...\n",
            "[nltk_data]   Unzipping corpora/stopwords.zip.\n",
            "[nltk_data] Downloading package punkt to /root/nltk_data...\n",
            "[nltk_data]   Unzipping tokenizers/punkt.zip.\n"
          ]
        },
        {
          "output_type": "execute_result",
          "data": {
            "text/plain": [
              "True"
            ]
          },
          "metadata": {},
          "execution_count": 9
        }
      ]
    },
    {
      "cell_type": "code",
      "metadata": {
        "execution": {
          "iopub.status.busy": "2021-06-12T14:13:19.281236Z",
          "iopub.execute_input": "2021-06-12T14:13:19.281891Z",
          "iopub.status.idle": "2021-06-12T14:13:19.289355Z",
          "shell.execute_reply.started": "2021-06-12T14:13:19.281837Z",
          "shell.execute_reply": "2021-06-12T14:13:19.288146Z"
        },
        "trusted": true,
        "colab": {
          "base_uri": "https://localhost:8080/",
          "height": 122
        },
        "id": "jQELKFvN4MnR",
        "outputId": "8765b081-937a-4e9d-9e5c-c5c8779f7dc3"
      },
      "source": [
        "df['data'][1]"
      ],
      "execution_count": null,
      "outputs": [
        {
          "output_type": "execute_result",
          "data": {
            "application/vnd.google.colaboratory.intrinsic+json": {
              "type": "string"
            },
            "text/plain": [
              "\"organised - focused - vibrant - awesome!do you have a passion for customer service? slick typing skills? maybe account management? ...and think administration is cooler than a polar bear on a jetski? then we need to hear you!\\xa0we are the cloud video production service and opperating on a glodal level. yeah, it's pretty cool. serious about\\xa0delivering a world class product and excellent customer service.our rapidly expanding business is looking for a talented project manager to manage the successful delivery of video projects, manage client communications and drive the production process. work with some of the coolest brands on the planet and learn from a global team that are representing nz is a huge way!we are entering the next growth stage of our business and growing quickly internationally. \\xa0therefore, the position is bursting with opportunity for the right person entering the business at the right time.\\xa090 seconds, the worlds cloud video production service -\\xa0http://90#url_fbe6559afac620a3cd2c22281f7b8d0eef56a73e3d9a311e2f1ca13d081dd630#90 seconds is the worlds cloud video production service enabling brands and agencies to get high quality online video content shot and produced anywhere in the world. fast, affordable, and all managed seamlessly in the cloud from purchase to publish.\\xa090 seconds removes the hassle, cost, risk and speed issues of working with regular video production companies by managing every aspect of video projects in a beautiful online experience. \\xa0with a growing network of over 2,000 rated video professionals in over 50 countries and dedicated production success teams in 5 countries guaranteeing video project success 100%. it's as easy as commissioning a quick google adwords campaign.90 seconds has produced almost 4,000 videos in over 30 countries for over 500 global brands including some of the worlds largest including paypal, l'oreal, sony and barclays and has offices in auckland, london, sydney, tokyo &amp; singapore.our auckland office is based\\xa0right in the heart of the wynyard quarter innovation precinct - gridakl!\\xa0\""
            ]
          },
          "metadata": {},
          "execution_count": 10
        }
      ]
    },
    {
      "cell_type": "code",
      "metadata": {
        "execution": {
          "iopub.status.busy": "2021-06-12T14:13:30.891179Z",
          "iopub.execute_input": "2021-06-12T14:13:30.891542Z",
          "iopub.status.idle": "2021-06-12T14:13:30.901678Z",
          "shell.execute_reply.started": "2021-06-12T14:13:30.891512Z",
          "shell.execute_reply": "2021-06-12T14:13:30.900685Z"
        },
        "trusted": true,
        "id": "3GPOt1Ow4MnS"
      },
      "source": [
        "from nltk.corpus import stopwords\n",
        "from nltk.stem import PorterStemmer\n",
        "stemming = PorterStemmer()\n",
        "stops = set(stopwords.words(\"english\"))    \n",
        "def identify_tokens(row):\n",
        "    review = row\n",
        "    tokens = nltk.word_tokenize(review)\n",
        "    # taken only words (not punctuation)\n",
        "    token_words = [w for w in tokens if w.isalpha()]\n",
        "    meaningful_words = [w for w in token_words if not w in stops]\n",
        "    stemmed_list = [stemming.stem(word) for word in meaningful_words]\n",
        "    joined_words = (' '.join(stemmed_list))\n",
        "    return joined_words"
      ],
      "execution_count": null,
      "outputs": []
    },
    {
      "cell_type": "code",
      "metadata": {
        "execution": {
          "iopub.status.busy": "2021-06-12T14:13:43.652467Z",
          "iopub.execute_input": "2021-06-12T14:13:43.652856Z",
          "iopub.status.idle": "2021-06-12T14:15:21.623888Z",
          "shell.execute_reply.started": "2021-06-12T14:13:43.652824Z",
          "shell.execute_reply": "2021-06-12T14:15:21.623011Z"
        },
        "trusted": true,
        "id": "PuqjDdHq4MnS"
      },
      "source": [
        "df['processed'] = df['data'].apply(identify_tokens)"
      ],
      "execution_count": null,
      "outputs": []
    },
    {
      "cell_type": "code",
      "metadata": {
        "execution": {
          "iopub.status.busy": "2021-06-12T14:23:47.144987Z",
          "iopub.execute_input": "2021-06-12T14:23:47.145358Z",
          "iopub.status.idle": "2021-06-12T14:23:47.152110Z",
          "shell.execute_reply.started": "2021-06-12T14:23:47.145328Z",
          "shell.execute_reply": "2021-06-12T14:23:47.151275Z"
        },
        "trusted": true,
        "colab": {
          "base_uri": "https://localhost:8080/",
          "height": 122
        },
        "id": "QGVDMeAL4MnT",
        "outputId": "f6d69c1a-d5d4-4bbf-8f7f-ae43c41f8f0d"
      },
      "source": [
        "df['processed'][1]"
      ],
      "execution_count": null,
      "outputs": [
        {
          "output_type": "execute_result",
          "data": {
            "application/vnd.google.colaboratory.intrinsic+json": {
              "type": "string"
            },
            "text/plain": [
              "'organis focus vibrant awesom passion custom servic slick type skill mayb account manag think administr cooler polar bear jetski need hear cloud video product servic opper glodal level yeah pretti cool seriou deliv world class product excel custom rapidli expand busi look talent project manag manag success deliveri video project manag client commun drive product process work coolest brand planet learn global team repres nz huge way enter next growth stage busi grow quickli intern therefor posit burst opportun right person enter busi right time second world cloud video product servic http second world cloud video product servic enabl brand agenc get high qualiti onlin video content shot produc anywher world fast afford manag seamlessli cloud purchas publish second remov hassl cost risk speed issu work regular video product compani manag everi aspect video project beauti onlin experi grow network rate video profession countri dedic product success team countri guarante video project success easi commiss quick googl adword second produc almost video countri global brand includ world largest includ paypal soni barclay offic auckland london sydney tokyo amp auckland offic base right heart wynyard quarter innov precinct gridakl'"
            ]
          },
          "metadata": {},
          "execution_count": 13
        }
      ]
    },
    {
      "cell_type": "code",
      "metadata": {
        "execution": {
          "iopub.status.busy": "2021-06-12T14:25:08.922008Z",
          "iopub.execute_input": "2021-06-12T14:25:08.922366Z",
          "iopub.status.idle": "2021-06-12T14:25:08.932119Z",
          "shell.execute_reply.started": "2021-06-12T14:25:08.922337Z",
          "shell.execute_reply": "2021-06-12T14:25:08.930864Z"
        },
        "trusted": true,
        "id": "U_CgzZ2j4MnT"
      },
      "source": [
        "from sklearn.feature_extraction.text import TfidfVectorizer, CountVectorizer\n",
        "from sklearn.model_selection import train_test_split\n",
        "from sklearn.naive_bayes import MultinomialNB\n",
        "from sklearn import metrics\n",
        "from sklearn.metrics import classification_report\n",
        "from sklearn.metrics import confusion_matrix"
      ],
      "execution_count": null,
      "outputs": []
    },
    {
      "cell_type": "code",
      "metadata": {
        "execution": {
          "iopub.status.busy": "2021-06-12T14:25:19.634165Z",
          "iopub.execute_input": "2021-06-12T14:25:19.634790Z",
          "iopub.status.idle": "2021-06-12T14:25:19.639124Z",
          "shell.execute_reply.started": "2021-06-12T14:25:19.634752Z",
          "shell.execute_reply": "2021-06-12T14:25:19.638153Z"
        },
        "trusted": true,
        "id": "evRtw9_x4MnU"
      },
      "source": [
        "Y = df['labels'].to_numpy()"
      ],
      "execution_count": null,
      "outputs": []
    },
    {
      "cell_type": "markdown",
      "metadata": {
        "id": "DoQEsn924MnU"
      },
      "source": [
        "**TF-IDF Feature Extraction**"
      ]
    },
    {
      "cell_type": "code",
      "metadata": {
        "execution": {
          "iopub.status.busy": "2021-06-12T14:25:30.059211Z",
          "iopub.execute_input": "2021-06-12T14:25:30.059611Z",
          "iopub.status.idle": "2021-06-12T14:25:33.912435Z",
          "shell.execute_reply.started": "2021-06-12T14:25:30.059566Z",
          "shell.execute_reply": "2021-06-12T14:25:33.911254Z"
        },
        "trusted": true,
        "colab": {
          "base_uri": "https://localhost:8080/"
        },
        "id": "9OUjeAT54MnU",
        "outputId": "54239168-9d11-4672-e3fd-281cf4e38371"
      },
      "source": [
        "tfidf = TfidfVectorizer(decode_error='ignore')\n",
        "X = tfidf.fit_transform(df['processed'].values.astype('U'))\n",
        "X.shape"
      ],
      "execution_count": null,
      "outputs": [
        {
          "output_type": "execute_result",
          "data": {
            "text/plain": [
              "(17879, 45546)"
            ]
          },
          "metadata": {},
          "execution_count": 16
        }
      ]
    },
    {
      "cell_type": "code",
      "metadata": {
        "execution": {
          "iopub.status.busy": "2021-06-12T14:25:50.607450Z",
          "iopub.execute_input": "2021-06-12T14:25:50.608321Z",
          "iopub.status.idle": "2021-06-12T14:25:50.615254Z",
          "shell.execute_reply.started": "2021-06-12T14:25:50.608273Z",
          "shell.execute_reply": "2021-06-12T14:25:50.613901Z"
        },
        "trusted": true,
        "colab": {
          "base_uri": "https://localhost:8080/",
          "height": 88
        },
        "id": "egN5z9rf4MnV",
        "outputId": "91970c7e-20a8-438f-b2b4-df0b24ce7c8a"
      },
      "source": [
        "df['processed'][17876]"
      ],
      "execution_count": null,
      "outputs": [
        {
          "output_type": "execute_result",
          "data": {
            "application/vnd.google.colaboratory.intrinsic+json": {
              "type": "string"
            },
            "text/plain": [
              "'payrol account focu primarili payrol function approxim count employe addit individu assist variou task within account depart rapidli grow cut edg web develop ideal candid would payrol possess experi autonomi abl work minim supervis fulfil oblig fun open work environ candid must also possess expertis applic account principl practic provid support account process payrol outsourc payrol handl account analysi administr function relat resolv respond time inquiri benefit administr includ point contact third parti complet payrol gener account analysi journal perform intern payrol review ensur accuraci maintain employe personnel annual renew flexibl spend transit reimburs assist account team account payabl'"
            ]
          },
          "metadata": {},
          "execution_count": 17
        }
      ]
    },
    {
      "cell_type": "markdown",
      "metadata": {
        "id": "shZhlVhZ4MnX"
      },
      "source": [
        "**Train/ Test Splitting**"
      ]
    },
    {
      "cell_type": "code",
      "metadata": {
        "execution": {
          "iopub.status.busy": "2021-06-12T14:26:17.358491Z",
          "iopub.execute_input": "2021-06-12T14:26:17.358903Z",
          "iopub.status.idle": "2021-06-12T14:26:17.374754Z",
          "shell.execute_reply.started": "2021-06-12T14:26:17.358869Z",
          "shell.execute_reply": "2021-06-12T14:26:17.373423Z"
        },
        "trusted": true,
        "id": "CmtZvHnc4MnX"
      },
      "source": [
        "xtrain,xtest,ytrain,ytest = train_test_split(X,Y,test_size=0.3)"
      ],
      "execution_count": null,
      "outputs": []
    },
    {
      "cell_type": "markdown",
      "metadata": {
        "id": "hjNuMSnv4MnX"
      },
      "source": [
        "**Multi-Nomial Naive Bayes**"
      ]
    },
    {
      "cell_type": "code",
      "metadata": {
        "execution": {
          "iopub.status.busy": "2021-06-12T14:26:25.699105Z",
          "iopub.execute_input": "2021-06-12T14:26:25.699732Z",
          "iopub.status.idle": "2021-06-12T14:26:25.721423Z",
          "shell.execute_reply.started": "2021-06-12T14:26:25.699693Z",
          "shell.execute_reply": "2021-06-12T14:26:25.720095Z"
        },
        "trusted": true,
        "colab": {
          "base_uri": "https://localhost:8080/"
        },
        "id": "Nvjkb0Ay4MnX",
        "outputId": "54ffbb61-eed2-4b2e-9c76-a1929d712331"
      },
      "source": [
        "modelNB = MultinomialNB()\n",
        "modelNB.fit(xtrain,ytrain)"
      ],
      "execution_count": null,
      "outputs": [
        {
          "output_type": "execute_result",
          "data": {
            "text/plain": [
              "MultinomialNB()"
            ]
          },
          "metadata": {},
          "execution_count": 19
        }
      ]
    },
    {
      "cell_type": "code",
      "metadata": {
        "execution": {
          "iopub.status.busy": "2021-06-12T14:26:37.465511Z",
          "iopub.execute_input": "2021-06-12T14:26:37.465894Z",
          "iopub.status.idle": "2021-06-12T14:26:37.504430Z",
          "shell.execute_reply.started": "2021-06-12T14:26:37.465860Z",
          "shell.execute_reply": "2021-06-12T14:26:37.503513Z"
        },
        "trusted": true,
        "colab": {
          "base_uri": "https://localhost:8080/"
        },
        "id": "uK3dQUpi4MnY",
        "outputId": "64fbb4d8-f20f-4f59-be85-ea16473c0bd4"
      },
      "source": [
        "NBPreds = modelNB.predict(xtest)\n",
        "print('Confusion Matrix')\n",
        "print(confusion_matrix(ytest, NBPreds))\n",
        "\n",
        "print('Classification Report')\n",
        "print(classification_report(ytest, NBPreds))\n",
        "\n",
        "print(\"Accuracy:\",metrics.accuracy_score(ytest, NBPreds))\n",
        "print(\"TNR:\",metrics.precision_score(ytest, NBPreds))\n",
        "print(\"NPV:\",metrics.recall_score(ytest, NBPreds))"
      ],
      "execution_count": null,
      "outputs": [
        {
          "output_type": "stream",
          "name": "stdout",
          "text": [
            "Confusion Matrix\n",
            "[[5088   12]\n",
            " [ 263    1]]\n",
            "Classification Report\n",
            "              precision    recall  f1-score   support\n",
            "\n",
            "           0       0.95      1.00      0.97      5100\n",
            "           1       0.08      0.00      0.01       264\n",
            "\n",
            "    accuracy                           0.95      5364\n",
            "   macro avg       0.51      0.50      0.49      5364\n",
            "weighted avg       0.91      0.95      0.93      5364\n",
            "\n",
            "Accuracy: 0.9487322893363161\n",
            "TNR: 0.07692307692307693\n",
            "NPV: 0.003787878787878788\n"
          ]
        }
      ]
    },
    {
      "cell_type": "code",
      "metadata": {
        "execution": {
          "iopub.status.busy": "2021-06-12T14:26:51.154216Z",
          "iopub.execute_input": "2021-06-12T14:26:51.154574Z",
          "iopub.status.idle": "2021-06-12T14:26:51.314415Z",
          "shell.execute_reply.started": "2021-06-12T14:26:51.154545Z",
          "shell.execute_reply": "2021-06-12T14:26:51.313213Z"
        },
        "trusted": true,
        "id": "swAOf8vX4MnY"
      },
      "source": [
        "from sklearn.neighbors import KNeighborsClassifier\n",
        "from sklearn.tree import DecisionTreeClassifier\n",
        "from sklearn import svm\n",
        "from sklearn.ensemble import RandomForestClassifier"
      ],
      "execution_count": null,
      "outputs": []
    },
    {
      "cell_type": "markdown",
      "metadata": {
        "id": "sk4UhF8d4MnY"
      },
      "source": [
        "**Support Vector Machine**"
      ]
    },
    {
      "cell_type": "code",
      "metadata": {
        "execution": {
          "iopub.status.busy": "2021-06-12T14:26:58.859820Z",
          "iopub.execute_input": "2021-06-12T14:26:58.860261Z",
          "iopub.status.idle": "2021-06-12T14:27:21.513942Z",
          "shell.execute_reply.started": "2021-06-12T14:26:58.860224Z",
          "shell.execute_reply": "2021-06-12T14:27:21.512837Z"
        },
        "trusted": true,
        "colab": {
          "base_uri": "https://localhost:8080/"
        },
        "id": "tPGSsga44MnZ",
        "outputId": "b2c3de93-fcd9-4361-f1ae-fa411d2c5062"
      },
      "source": [
        "clf = svm.SVC(kernel='linear') # Linear Kernel\n",
        "clf.fit(xtrain,ytrain)"
      ],
      "execution_count": null,
      "outputs": [
        {
          "output_type": "execute_result",
          "data": {
            "text/plain": [
              "SVC(kernel='linear')"
            ]
          },
          "metadata": {},
          "execution_count": 22
        }
      ]
    },
    {
      "cell_type": "code",
      "metadata": {
        "execution": {
          "iopub.status.busy": "2021-06-12T14:27:31.944558Z",
          "iopub.execute_input": "2021-06-12T14:27:31.945182Z",
          "iopub.status.idle": "2021-06-12T14:27:39.724426Z",
          "shell.execute_reply.started": "2021-06-12T14:27:31.945132Z",
          "shell.execute_reply": "2021-06-12T14:27:39.723543Z"
        },
        "trusted": true,
        "id": "GvHs7nIH4MnZ"
      },
      "source": [
        "SVMpred = clf.predict(xtest)"
      ],
      "execution_count": null,
      "outputs": []
    },
    {
      "cell_type": "code",
      "metadata": {
        "execution": {
          "iopub.status.busy": "2021-06-12T14:27:57.439318Z",
          "iopub.execute_input": "2021-06-12T14:27:57.439921Z",
          "iopub.status.idle": "2021-06-12T14:27:57.474854Z",
          "shell.execute_reply.started": "2021-06-12T14:27:57.439869Z",
          "shell.execute_reply": "2021-06-12T14:27:57.473462Z"
        },
        "trusted": true,
        "colab": {
          "base_uri": "https://localhost:8080/"
        },
        "id": "qU5S6G1Q4MnZ",
        "outputId": "28d5206a-43b5-48e4-9676-ea2e1e72f7f7"
      },
      "source": [
        "print('Confusion Matrix')\n",
        "print(confusion_matrix(ytest, SVMpred))\n",
        "print('Classification Report')\n",
        "print(classification_report(ytest, SVMpred))\n",
        "print(\"Accuracy:\",metrics.accuracy_score(ytest, SVMpred))\n",
        "print(\"TNR:\",metrics.precision_score(ytest, SVMpred))\n",
        "print(\"NPV:\",metrics.recall_score(ytest, SVMpred))"
      ],
      "execution_count": null,
      "outputs": [
        {
          "output_type": "stream",
          "name": "stdout",
          "text": [
            "Confusion Matrix\n",
            "[[5096    4]\n",
            " [ 155  109]]\n",
            "Classification Report\n",
            "              precision    recall  f1-score   support\n",
            "\n",
            "           0       0.97      1.00      0.98      5100\n",
            "           1       0.96      0.41      0.58       264\n",
            "\n",
            "    accuracy                           0.97      5364\n",
            "   macro avg       0.97      0.71      0.78      5364\n",
            "weighted avg       0.97      0.97      0.96      5364\n",
            "\n",
            "Accuracy: 0.9703579418344519\n",
            "TNR: 0.9646017699115044\n",
            "NPV: 0.4128787878787879\n"
          ]
        }
      ]
    },
    {
      "cell_type": "markdown",
      "metadata": {
        "id": "sLq0fK6o4Mna"
      },
      "source": [
        "**Decision Tree**"
      ]
    },
    {
      "cell_type": "code",
      "metadata": {
        "execution": {
          "iopub.status.busy": "2021-06-12T14:28:06.773481Z",
          "iopub.execute_input": "2021-06-12T14:28:06.773890Z",
          "iopub.status.idle": "2021-06-12T14:28:31.312120Z",
          "shell.execute_reply.started": "2021-06-12T14:28:06.773853Z",
          "shell.execute_reply": "2021-06-12T14:28:31.311192Z"
        },
        "trusted": true,
        "id": "NKQZb0SX4Mna"
      },
      "source": [
        "DTC = DecisionTreeClassifier()\n",
        "DTC = DTC.fit(xtrain,ytrain)\n",
        "DTCPred = DTC.predict(xtest)"
      ],
      "execution_count": null,
      "outputs": []
    },
    {
      "cell_type": "code",
      "metadata": {
        "execution": {
          "iopub.status.busy": "2021-06-12T14:28:42.327856Z",
          "iopub.execute_input": "2021-06-12T14:28:42.328319Z",
          "iopub.status.idle": "2021-06-12T14:28:42.363268Z",
          "shell.execute_reply.started": "2021-06-12T14:28:42.328284Z",
          "shell.execute_reply": "2021-06-12T14:28:42.361998Z"
        },
        "trusted": true,
        "colab": {
          "base_uri": "https://localhost:8080/"
        },
        "id": "25k5leCI4Mnb",
        "outputId": "570e6521-e329-4609-9330-b9adb49fca87"
      },
      "source": [
        "print('Confusion Matrix')\n",
        "print(confusion_matrix(ytest, DTCPred))\n",
        "print('Classification Report')\n",
        "print(classification_report(ytest, DTCPred))\n",
        "print(\"Accuracy:\",metrics.accuracy_score(ytest, DTCPred))\n",
        "print(\"TNR:\",metrics.precision_score(ytest, DTCPred))\n",
        "print(\"NPV:\",metrics.recall_score(ytest, DTCPred))"
      ],
      "execution_count": null,
      "outputs": [
        {
          "output_type": "stream",
          "name": "stdout",
          "text": [
            "Confusion Matrix\n",
            "[[5031   69]\n",
            " [  98  166]]\n",
            "Classification Report\n",
            "              precision    recall  f1-score   support\n",
            "\n",
            "           0       0.98      0.99      0.98      5100\n",
            "           1       0.71      0.63      0.67       264\n",
            "\n",
            "    accuracy                           0.97      5364\n",
            "   macro avg       0.84      0.81      0.82      5364\n",
            "weighted avg       0.97      0.97      0.97      5364\n",
            "\n",
            "Accuracy: 0.9688665175242357\n",
            "TNR: 0.7063829787234043\n",
            "NPV: 0.6287878787878788\n"
          ]
        }
      ]
    },
    {
      "cell_type": "markdown",
      "metadata": {
        "id": "qOE4Y5vz4Mnb"
      },
      "source": [
        "**K-Nearest Neighbors**"
      ]
    },
    {
      "cell_type": "code",
      "metadata": {
        "execution": {
          "iopub.status.busy": "2021-06-12T14:28:53.362810Z",
          "iopub.execute_input": "2021-06-12T14:28:53.363190Z",
          "iopub.status.idle": "2021-06-12T14:28:58.577969Z",
          "shell.execute_reply.started": "2021-06-12T14:28:53.363160Z",
          "shell.execute_reply": "2021-06-12T14:28:58.576807Z"
        },
        "trusted": true,
        "id": "J-gpAcy04Mnb"
      },
      "source": [
        "KNN = KNeighborsClassifier(n_neighbors=3)\n",
        "KNN.fit(xtrain,ytrain)\n",
        "KNNPred= KNN.predict(xtest)"
      ],
      "execution_count": null,
      "outputs": []
    },
    {
      "cell_type": "code",
      "metadata": {
        "execution": {
          "iopub.status.busy": "2021-06-12T14:29:03.549996Z",
          "iopub.execute_input": "2021-06-12T14:29:03.550387Z",
          "iopub.status.idle": "2021-06-12T14:29:03.584538Z",
          "shell.execute_reply.started": "2021-06-12T14:29:03.550357Z",
          "shell.execute_reply": "2021-06-12T14:29:03.583171Z"
        },
        "trusted": true,
        "colab": {
          "base_uri": "https://localhost:8080/"
        },
        "id": "NMksJvXV4Mnb",
        "outputId": "b432666f-be7a-437f-9813-9cffacfce03e"
      },
      "source": [
        "print('Confusion Matrix')\n",
        "print(confusion_matrix(ytest, KNNPred))\n",
        "print('Classification Report')\n",
        "print(classification_report(ytest, KNNPred))\n",
        "print(\"Accuracy:\",metrics.accuracy_score(ytest, KNNPred))\n",
        "print(\"TNR:\",metrics.precision_score(ytest, KNNPred))\n",
        "print(\"NPV:\",metrics.recall_score(ytest, KNNPred))"
      ],
      "execution_count": null,
      "outputs": [
        {
          "output_type": "stream",
          "name": "stdout",
          "text": [
            "Confusion Matrix\n",
            "[[5034   66]\n",
            " [  80  184]]\n",
            "Classification Report\n",
            "              precision    recall  f1-score   support\n",
            "\n",
            "           0       0.98      0.99      0.99      5100\n",
            "           1       0.74      0.70      0.72       264\n",
            "\n",
            "    accuracy                           0.97      5364\n",
            "   macro avg       0.86      0.84      0.85      5364\n",
            "weighted avg       0.97      0.97      0.97      5364\n",
            "\n",
            "Accuracy: 0.9727815063385533\n",
            "TNR: 0.736\n",
            "NPV: 0.696969696969697\n"
          ]
        }
      ]
    },
    {
      "cell_type": "markdown",
      "metadata": {
        "id": "HZZbeEHc4Mnc"
      },
      "source": [
        "**Random Forest**"
      ]
    },
    {
      "cell_type": "code",
      "metadata": {
        "execution": {
          "iopub.status.busy": "2021-06-12T14:29:14.446810Z",
          "iopub.execute_input": "2021-06-12T14:29:14.447245Z",
          "iopub.status.idle": "2021-06-12T14:29:44.146070Z",
          "shell.execute_reply.started": "2021-06-12T14:29:14.447212Z",
          "shell.execute_reply": "2021-06-12T14:29:44.144871Z"
        },
        "trusted": true,
        "colab": {
          "base_uri": "https://localhost:8080/"
        },
        "id": "6YrHg8UX4Mnc",
        "outputId": "26928e5e-168d-4604-9502-5949c0a83039"
      },
      "source": [
        "RF=RandomForestClassifier(n_estimators=100) #default number of trees in the forest model \n",
        "RF.fit(xtrain,ytrain)\n",
        "RFPred=RF.predict(xtest)\n",
        "print('Confusion Matrix')\n",
        "print(confusion_matrix(ytest, RFPred))\n",
        "print('Classification Report')\n",
        "print(classification_report(ytest, RFPred))\n",
        "print(\"Accuracy:\",metrics.accuracy_score(ytest, RFPred))\n",
        "print(\"TNR:\",metrics.precision_score(ytest, RFPred))\n",
        "print(\"NPV:\",metrics.recall_score(ytest, RFPred))"
      ],
      "execution_count": null,
      "outputs": [
        {
          "output_type": "stream",
          "name": "stdout",
          "text": [
            "Confusion Matrix\n",
            "[[5097    3]\n",
            " [ 122  142]]\n",
            "Classification Report\n",
            "              precision    recall  f1-score   support\n",
            "\n",
            "           0       0.98      1.00      0.99      5100\n",
            "           1       0.98      0.54      0.69       264\n",
            "\n",
            "    accuracy                           0.98      5364\n",
            "   macro avg       0.98      0.77      0.84      5364\n",
            "weighted avg       0.98      0.98      0.97      5364\n",
            "\n",
            "Accuracy: 0.976696495152871\n",
            "TNR: 0.9793103448275862\n",
            "NPV: 0.5378787878787878\n"
          ]
        }
      ]
    },
    {
      "cell_type": "markdown",
      "source": [
        "#Max Voting"
      ],
      "metadata": {
        "id": "Re-jJV81dyx2"
      }
    },
    {
      "cell_type": "code",
      "source": [
        "from sklearn.metrics import accuracy_score"
      ],
      "metadata": {
        "id": "LsBiOhOii3E8"
      },
      "execution_count": null,
      "outputs": []
    },
    {
      "cell_type": "code",
      "source": [
        "from sklearn.ensemble import VotingClassifier\n"
      ],
      "metadata": {
        "id": "CwALNydtpTmD"
      },
      "execution_count": null,
      "outputs": []
    },
    {
      "cell_type": "code",
      "source": [
        "# group / ensemble of models\n",
        "estimator = []\n",
        "estimator.append(('DT', DecisionTreeClassifier()))\n",
        "estimator.append(('SVC', svm.SVC(kernel='linear')))\n",
        "estimator.append(('KNN', KNeighborsClassifier(n_neighbors=3)))\n",
        "estimator.append(('NB', MultinomialNB()))\n",
        "estimator.append(('RF', RandomForestClassifier(n_estimators=100)))\n",
        "\n",
        "# Voting Classifier with hard voting\n",
        "vot_hard = VotingClassifier(estimators = estimator, voting ='hard')\n",
        "vot_hard.fit(xtrain, ytrain)\n",
        "y_pred = vot_hard.predict(xtest)\n",
        "# using accuracy_score metric to predict accuracy\n",
        "score = accuracy_score(ytest, y_pred)\n",
        "print(\"Score:\",score)"
      ],
      "metadata": {
        "id": "JSud5kV-h95O",
        "colab": {
          "base_uri": "https://localhost:8080/"
        },
        "outputId": "1e252957-df54-4f97-e3fa-f7141c32767b"
      },
      "execution_count": null,
      "outputs": [
        {
          "output_type": "stream",
          "name": "stdout",
          "text": [
            "Score: 0.977255779269202\n"
          ]
        }
      ]
    },
    {
      "cell_type": "markdown",
      "source": [
        "#AdaBoost"
      ],
      "metadata": {
        "id": "u06YRC-KeSNz"
      }
    },
    {
      "cell_type": "code",
      "source": [
        "from sklearn.ensemble import AdaBoostClassifier\n",
        "model = AdaBoostClassifier(random_state=1)\n",
        "model.fit(xtrain, ytrain)\n",
        "model.score(xtest,ytest)"
      ],
      "metadata": {
        "id": "v9angP-Befyy",
        "colab": {
          "base_uri": "https://localhost:8080/"
        },
        "outputId": "d88aa7a5-2260-42a3-8698-87e2057b4990"
      },
      "execution_count": null,
      "outputs": [
        {
          "output_type": "execute_result",
          "data": {
            "text/plain": [
              "0.9608501118568232"
            ]
          },
          "metadata": {},
          "execution_count": 33
        }
      ]
    },
    {
      "cell_type": "markdown",
      "source": [
        "#GBM"
      ],
      "metadata": {
        "id": "iMgUFJBieoQP"
      }
    },
    {
      "cell_type": "code",
      "source": [
        "from sklearn.ensemble import GradientBoostingClassifier\n",
        "model= GradientBoostingClassifier(learning_rate=0.01,random_state=1)\n",
        "model.fit(xtrain, ytrain)\n",
        "model.score(xtest,ytest)"
      ],
      "metadata": {
        "id": "9Y7AmqFxerPn",
        "colab": {
          "base_uri": "https://localhost:8080/"
        },
        "outputId": "f00dc93a-4f3c-4ff2-94b1-a26146b6115a"
      },
      "execution_count": null,
      "outputs": [
        {
          "output_type": "execute_result",
          "data": {
            "text/plain": [
              "0.9563758389261745"
            ]
          },
          "metadata": {},
          "execution_count": 34
        }
      ]
    },
    {
      "cell_type": "markdown",
      "source": [
        "#XGB"
      ],
      "metadata": {
        "id": "WidaYInpeyEO"
      }
    },
    {
      "cell_type": "code",
      "source": [
        "import xgboost as xgb\n",
        "model=xgb.XGBClassifier(random_state=1,learning_rate=0.01)\n",
        "model.fit(xtrain, ytrain)\n",
        "model.score(xtest,ytest)"
      ],
      "metadata": {
        "id": "0Bkio08Re0xA",
        "colab": {
          "base_uri": "https://localhost:8080/"
        },
        "outputId": "aad7ea0a-d624-4e36-e139-9b9387658692"
      },
      "execution_count": null,
      "outputs": [
        {
          "output_type": "execute_result",
          "data": {
            "text/plain": [
              "0.9602908277404921"
            ]
          },
          "metadata": {},
          "execution_count": 35
        }
      ]
    },
    {
      "cell_type": "markdown",
      "source": [
        "#Light GB"
      ],
      "metadata": {
        "id": "HlDVOCEie7T2"
      }
    },
    {
      "cell_type": "code",
      "source": [
        "import lightgbm as lgb\n",
        "train_data=lgb.Dataset(xtrain,label=ytrain)\n",
        "#define parameters\n",
        "params = {'learning_rate':0.001}\n",
        "model= lgb.train(params, train_data, 100) \n",
        "y_pred=model.predict(xtest)\n",
        "for i in range(0,185):\n",
        "   if y_pred[i]>=0.5: \n",
        "     y_pred[i]=1\n",
        "else: \n",
        "   y_pred[i]=0"
      ],
      "metadata": {
        "id": "CR7B-D_Fe83-"
      },
      "execution_count": null,
      "outputs": []
    },
    {
      "cell_type": "code",
      "source": [
        "import lightgbm as lgb\n",
        "train_data=lgb.Dataset(xtrain,label=ytrain)\n",
        "params = {'learning_rate':0.001}\n",
        "model= lgb.train(params, train_data, 100)\n",
        "from sklearn.metrics import mean_squared_error\n",
        "rmse=mean_squared_error(y_pred,ytest)**0.5"
      ],
      "metadata": {
        "id": "d4Vs5PZpe9lU"
      },
      "execution_count": null,
      "outputs": []
    },
    {
      "cell_type": "code",
      "source": [
        "rmse"
      ],
      "metadata": {
        "id": "CXovAMUh2WqE",
        "colab": {
          "base_uri": "https://localhost:8080/"
        },
        "outputId": "37da4a13-93a3-4924-fcb9-6e27a9cf1666"
      },
      "execution_count": null,
      "outputs": [
        {
          "output_type": "execute_result",
          "data": {
            "text/plain": [
              "0.21001959355973449"
            ]
          },
          "metadata": {},
          "execution_count": 38
        }
      ]
    }
  ]
}